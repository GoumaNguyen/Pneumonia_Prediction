{
 "cells": [
  {
   "cell_type": "code",
   "execution_count": null,
   "metadata": {},
   "outputs": [],
   "source": [
    "import os\n",
    "import pydicom\n",
    "from pydicom.pixel_data_handlers.util import apply_voi_lut\n",
    "import numpy as np\n",
    "from PIL import Image\n",
    "\n",
    "def dicom_to_png(dicom_file_path, png_file_path):\n",
    "    # Đọc file DICOM\n",
    "    dicom = pydicom.dcmread(dicom_file_path)\n",
    "    \n",
    "    # Áp dụng VOI LUT nếu có, hoặc chỉ cần sử dụng pixel data\n",
    "    if hasattr(dicom, 'WindowWidth') and hasattr(dicom, 'WindowCenter'):\n",
    "        data = apply_voi_lut(dicom.pixel_array, dicom)\n",
    "    else:\n",
    "        data = dicom.pixel_array\n",
    "\n",
    "    # Đảm bảo dữ liệu là dạng uint8\n",
    "    data = data - np.min(data)\n",
    "    data = (data / np.max(data) * 255).astype(np.uint8)\n",
    "\n",
    "    # Chuyển đổi thành ảnh PIL\n",
    "    image = Image.fromarray(data)\n",
    "\n",
    "    # Lưu ảnh thành file PNG\n",
    "    image.save(png_file_path)\n",
    "\n",
    "def convert_folder(dicom_folder_path, png_folder_path):\n",
    "    # Tạo thư mục PNG nếu chưa tồn tại\n",
    "    if not os.path.exists(png_folder_path):\n",
    "        os.makedirs(png_folder_path)\n",
    "\n",
    "    # Duyệt qua tất cả các file trong thư mục DICOM\n",
    "    for filename in os.listdir(dicom_folder_path):\n",
    "        if filename.lower().endswith('.dcm'):\n",
    "            dicom_file_path = os.path.join(dicom_folder_path, filename)\n",
    "            png_file_path = os.path.join(png_folder_path, filename.replace('.dcm', '.png'))\n",
    "            try:\n",
    "                dicom_to_png(dicom_file_path, png_file_path)\n",
    "                print(f\"Đã chuyển đổi: {dicom_file_path} -> {png_file_path}\")\n",
    "            except Exception as e:\n",
    "                print(f\"Lỗi khi chuyển đổi {dicom_file_path}: {e}\")\n",
    "\n"
   ]
  },
  {
   "cell_type": "code",
   "execution_count": null,
   "metadata": {},
   "outputs": [],
   "source": [
    "# Đường dẫn tới thư mục chứa file DICOM và thư mục lưu file PNG\n",
    "dicom_folder_path = 'path/to/your/dicom/folder'\n",
    "png_folder_path = 'path/to/save/your/png/folder'\n",
    "\n",
    "# Chuyển đổi toàn bộ file trong thư mục\n",
    "convert_folder(dicom_folder_path, png_folder_path)"
   ]
  }
 ],
 "metadata": {
  "language_info": {
   "name": "python"
  }
 },
 "nbformat": 4,
 "nbformat_minor": 2
}
